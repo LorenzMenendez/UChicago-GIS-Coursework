{
 "cells": [
  {
   "cell_type": "markdown",
   "metadata": {},
   "source": [
    "# Wrangling San Francisco's Open Data using Google Cloud and BigQuery"
   ]
  },
  {
   "cell_type": "markdown",
   "metadata": {},
   "source": [
    "## Configuring your Environment\n",
    "\n",
    "### Installing R packages \n",
    "To query to SF open data, we are going to use a handy R library called \"bigrquery\" that will query the data we want from Google Cloud directly into R. "
   ]
  },
  {
   "cell_type": "code",
   "execution_count": null,
   "metadata": {},
   "outputs": [],
   "source": [
    "install.packages(\"bigrquery\")\n",
    "library(bigrquery)"
   ]
  },
  {
   "cell_type": "markdown",
   "metadata": {},
   "source": [
    "### Setting up Google Cloud\n",
    "To use the service, you need to first [register with Google Cloud](https://cloud.google.com/free/) and setup a free account. Though it will ask you for billing information, Google doesen't charge you. \n",
    "\n",
    "With this account you get a lot of handy Google serices at your disposal, such as the Google Maps API. In this tutorial, we are only going to focus on querying data. Follow these steps to setup a new project,a s described by [RStudio](https://db.rstudio.com/databases/big-query/)\n",
    "\n",
    "* **Step 1**: Open https://console.cloud.google.com/\n",
    "* **Step 2**: Click “Create Project” at the top\n",
    "* **Step 3**: Select a name and project ID, and click “Create”\n",
    "* **Step 4**: Turn on the BigQuery API by clicking “APIs & Auth” on the left, scrolling down to “BigQuery API”, and clicking the button at the right from “OFF” to “ON”.\n",
    "* **Step 5**: Click on “Overview” at the left\n",
    "* **Step 6**: Use the *Project ID* or *Project Number* to identify your project with bigrquery. (You can also use the project number, though it’s harder to remember.)\n"
   ]
  },
  {
   "cell_type": "markdown",
   "metadata": {},
   "source": [
    "## Querying Data\n",
    "Querying SF Data using \"bigrquery\" is similar to querying a PostgreSQL / PostGIS database. We're going to use the **bq_project_query()** function to pull SF data. This function requires us to input our *Project ID* and a *SQL Command*, as shown below\n"
   ]
  },
  {
   "cell_type": "code",
   "execution_count": null,
   "metadata": {},
   "outputs": [],
   "source": [
    "# Here we are going to pull a dataset of all permitted tress in San Francisco\n",
    "library(dplyr)\n",
    "\n",
    "billing = \"sanguine-parsec-238723\" # enter your unique project ID here\n",
    "\n",
    "sql_1 = \"\n",
    "        SELECT * \n",
    "        FROM `bigquery-public-data.san_francisco.street_trees`  \" #NB: The `xx` is not 'xx'\n",
    "\n",
    "trees_all = bq_project_query(billing, sql_1) %>%\n",
    "        bq_table_download(quiet = TRUE)"
   ]
  },
  {
   "cell_type": "markdown",
   "metadata": {},
   "source": [
    "Now that you know how to query data, we're going to want to optimize the query to only import the columns (data attrbiutes) we want and clean the data. Our goal is to only query what we need to keep our data tidy. \n",
    "\n",
    "The following code will give us a tidy \"sf\" dataset of trees to work with."
   ]
  },
  {
   "cell_type": "code",
   "execution_count": null,
   "metadata": {},
   "outputs": [],
   "source": [
    "library(sf)\n",
    "\n",
    "sql2 = \"\n",
    "        SELECT tree_id, longitude, latitude\n",
    "        FROM `bigquery-public-data.san_francisco.street_trees`  \n",
    "        WHERE location != '' AND longitude >= -123 AND latitude >= 37.6 \" # NB: We filtered by location to only keep trees in San Francisco\n",
    "\n",
    "trees_tidy = bq_project_query(billing, sql2) %>%\n",
    "        bq_table_download(quiet = TRUE)\n",
    "\n",
    "trees_tidy_sf = st_as_sf(trees_tidy, coords = c(\"longitude\", \"latitude\"), crs = 4326) %>%\n",
    "        st_transform(crs = 7131)"
   ]
  },
  {
   "cell_type": "markdown",
   "metadata": {},
   "source": [
    "Plotting the data gives you a very crude map of permitted trees in San Francisco. Note, \"wild\" trees in parks are not included in the dataset. \n",
    "\n",
    "## Plotting Tree Data\n",
    "First, let's do a quick and dirty plot of all the permitted trees\n"
   ]
  },
  {
   "cell_type": "code",
   "execution_count": null,
   "metadata": {},
   "outputs": [],
   "source": [
    "plot(trees_tidy_sf)"
   ]
  },
  {
   "cell_type": "markdown",
   "metadata": {},
   "source": [
    "Next, let's make a heatmap of tree density in San Francisco. The goal of this map is to show the \"greenest\" streets of San Francisco.\n",
    "\n",
    "To do this, we'll install and load the \"spatialEco\" package that has a handy KDE function."
   ]
  },
  {
   "cell_type": "code",
   "execution_count": null,
   "metadata": {},
   "outputs": [],
   "source": [
    "install.packages(spatialEco)\n",
    "library(spatialEco)\n",
    "\n",
    "trees_tidy_kde = trees_tidy_sf %>%\n",
    "        as('Spatial') %>% # sp.kde() requires an sp object as input\n",
    "        sp.kde(bw = 400, n = 750, standardize = TRUE)\n",
    "\n",
    "plot(trees_tidy_kde)"
   ]
  },
  {
   "cell_type": "markdown",
   "metadata": {},
   "source": []
  }
 ],
 "metadata": {
  "kernelspec": {
   "display_name": "R",
   "language": "R",
   "name": "ir"
  },
  "language_info": {
   "codemirror_mode": "r",
   "file_extension": ".r",
   "mimetype": "text/x-r-source",
   "name": "R",
   "pygments_lexer": "r",
   "version": "3.4.3"
  }
 },
 "nbformat": 4,
 "nbformat_minor": 2
}

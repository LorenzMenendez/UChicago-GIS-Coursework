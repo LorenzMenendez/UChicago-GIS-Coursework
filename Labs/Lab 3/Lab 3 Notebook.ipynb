{
 "cells": [
  {
   "cell_type": "markdown",
   "metadata": {},
   "source": [
    "# Lab 3 — Mapping AirBnB Data in Chicago\n",
    "Lorenz Menendez"
   ]
  },
  {
   "cell_type": "markdown",
   "metadata": {},
   "source": [
    "## Following the Geopython lab by ljwolf"
   ]
  },
  {
   "cell_type": "markdown",
   "metadata": {},
   "source": [
    "Importing required modules"
   ]
  },
  {
   "cell_type": "code",
   "execution_count": null,
   "metadata": {},
   "outputs": [],
   "source": [
    "import pandas as pd\n",
    "import geopandas as gpd\n",
    "# import libpysal.api as lp\n",
    "import matplotlib.pyplot as plt\n",
    "import rasterio as rio\n",
    "import numpy as np\n",
    "# import contextily as ctx\n",
    "import shapely.geometry as geom\n",
    "%matplotlib inline\n",
    "\n",
    "\n",
    "import seaborn as sbn\n",
    "\n",
    "import mapclassify as mc"
   ]
  },
  {
   "cell_type": "markdown",
   "metadata": {},
   "source": [
    "Importing and cleaning the AirBnb Shapefile"
   ]
  },
  {
   "cell_type": "code",
   "execution_count": null,
   "metadata": {},
   "outputs": [],
   "source": [
    "df = gpd.read_file('airbnb_Chicago 2015.shp')\n",
    "df.head()\n",
    "\n",
    "df = df\n",
    "df['price_pp'].fillna((df['price_pp'].mean()), inplace=True)"
   ]
  },
  {
   "cell_type": "markdown",
   "metadata": {},
   "source": [
    "Visualizing some statistics on 'price_pp'"
   ]
  },
  {
   "cell_type": "code",
   "execution_count": null,
   "metadata": {},
   "outputs": [],
   "source": [
    "sbn.distplot(df['price_pp'])"
   ]
  },
  {
   "cell_type": "markdown",
   "metadata": {},
   "source": [
    "Creating a default choropleth map"
   ]
  },
  {
   "cell_type": "code",
   "execution_count": null,
   "metadata": {},
   "outputs": [],
   "source": [
    "df.plot(column='price_pp')"
   ]
  },
  {
   "cell_type": "code",
   "execution_count": null,
   "metadata": {},
   "outputs": [],
   "source": [
    "fig, ax = plt.subplots(figsize=(12,10), subplot_kw={'aspect':'equal'})\n",
    "df.plot(column='price_pp', scheme='Quantiles',  legend=True, ax=ax)"
   ]
  },
  {
   "cell_type": "code",
   "execution_count": null,
   "metadata": {},
   "outputs": [],
   "source": [
    "fig, ax = plt.subplots(figsize=(12,10), subplot_kw={'aspect':'equal'})\n",
    "df.plot(column='price_pp', scheme='Quantiles', k=4, legend=True, ax=ax)"
   ]
  },
  {
   "cell_type": "code",
   "execution_count": null,
   "metadata": {},
   "outputs": [],
   "source": [
    "fig, ax = plt.subplots(figsize=(12,10), subplot_kw={'aspect':'equal'})\n",
    "df.plot(column='price_pp', scheme='Quantiles', k=4, legend=True, ax=ax, \n",
    "        cmap='OrRd')"
   ]
  },
  {
   "cell_type": "code",
   "execution_count": null,
   "metadata": {},
   "outputs": [],
   "source": [
    "f,ax = plt.subplots(1,3,figsize=(3.16*4,4))\n",
    "df.plot(column='price_pp', ax=ax[0], edgecolor='k',\n",
    "        scheme=\"quantiles\",  k=4)\n",
    "ax[0].axis(df.total_bounds[np.asarray([0,2,1,3])])\n",
    "ax[0].set_title(\"Default\")\n",
    "df.plot(column='price_pp', ax=ax[1], edgecolor='k',\n",
    "        scheme='quantiles', cmap='OrRd', k=4)\n",
    "ax[1].axis(df.total_bounds[np.asarray([0,2,1,3])])\n",
    "ax[1].set_title(\"OrRd\")\n",
    "df.plot(column='price_pp', ax=ax[2], edgecolor='k',\n",
    "        scheme='quantiles', cmap='GnBu', k=4)\n",
    "ax[2].axis(df.total_bounds[np.asarray([0,2,1,3])])\n",
    "ax[2].set_title(\"GnBu\")\n",
    "ax[0].axis('off')\n",
    "ax[1].axis('off')\n",
    "ax[2].axis('off')\n",
    "plt.show()\n"
   ]
  },
  {
   "cell_type": "code",
   "execution_count": null,
   "metadata": {},
   "outputs": [],
   "source": [
    "f,ax = plt.subplots(1,3,figsize=(3.16*4,4))\n",
    "df.plot(column='price_pp', ax=ax[0], edgecolor='k',\n",
    "        scheme=\"quantiles\", cmap='OrRd', k=4)\n",
    "ax[0].axis(df.total_bounds[np.asarray([0,2,1,3])])\n",
    "ax[0].set_title(\"Quartiles\")\n",
    "df.plot(column='price_pp', ax=ax[1], edgecolor='k',\n",
    "        scheme='equal_interval', cmap='OrRd', k=4)\n",
    "ax[1].axis(df.total_bounds[np.asarray([0,2,1,3])])\n",
    "ax[1].set_title(\"Equal Interval\")\n",
    "df.plot(column='price_pp', ax=ax[2], edgecolor='k',\n",
    "       scheme='fisher_jenks', cmap='OrRd', k=4)\n",
    "ax[2].axis(df.total_bounds[np.asarray([0,2,1,3])])\n",
    "ax[2].set_title(\"Fisher Jenks\")\n",
    "ax[0].axis('off')\n",
    "ax[1].axis('off')\n",
    "ax[2].axis('off')\n",
    "plt.show()"
   ]
  },
  {
   "cell_type": "code",
   "execution_count": null,
   "metadata": {},
   "outputs": [],
   "source": [
    "y = df['price_pp']\n",
    "ea5 = mc.Equal_Interval(y, k=5)"
   ]
  },
  {
   "cell_type": "code",
   "execution_count": null,
   "metadata": {},
   "outputs": [],
   "source": [
    "q5 = mc.Quantiles(y, k=5)\n",
    "q5"
   ]
  },
  {
   "cell_type": "code",
   "execution_count": null,
   "metadata": {},
   "outputs": [],
   "source": [
    "y.shape\n",
    "\n",
    "np.unique(y).shape"
   ]
  },
  {
   "cell_type": "markdown",
   "metadata": {},
   "source": [
    "#### Selecting a Classification based on Fit"
   ]
  },
  {
   "cell_type": "code",
   "execution_count": null,
   "metadata": {},
   "outputs": [],
   "source": [
    "q5 = mc.Quantiles(y, k=5)\n",
    "ei5 = mc.Equal_Interval(y, k=5)\n",
    "mb5 = mc.Maximum_Breaks(y, k=5)\n",
    "fj5 = mc.Fisher_Jenks(y, k=5)\n",
    "fits = [c.adcm for c in [q5, ei5, mb5, fj5]]\n",
    "fits"
   ]
  },
  {
   "cell_type": "markdown",
   "metadata": {},
   "source": [
    "#### Outlier Detection"
   ]
  },
  {
   "cell_type": "code",
   "execution_count": null,
   "metadata": {},
   "outputs": [],
   "source": [
    "ht = mc.HeadTail_Breaks(y)\n",
    "ht"
   ]
  },
  {
   "cell_type": "code",
   "execution_count": null,
   "metadata": {},
   "outputs": [],
   "source": [
    "std = mc.Std_Mean(y)\n",
    "std"
   ]
  },
  {
   "cell_type": "code",
   "execution_count": null,
   "metadata": {},
   "outputs": [],
   "source": [
    "bp = mc.Box_Plot(y)\n",
    "bp"
   ]
  },
  {
   "cell_type": "markdown",
   "metadata": {},
   "source": [
    "#### Using Map Classify with GeoPandas"
   ]
  },
  {
   "cell_type": "code",
   "execution_count": null,
   "metadata": {},
   "outputs": [],
   "source": [
    "labels = ['0-low outlier', '1-low whisker',\n",
    "          '2-Q2', '3-Q3', '4-high whisker', '5-high outlier']\n",
    "bpl = [ labels[b] for b in bp.yb ]\n",
    "\n",
    "f, ax = plt.subplots(1, figsize=(9, 9))\n",
    "df.assign(cl=bpl).plot(column='cl', categorical=True, \\\n",
    "                                      k=4, cmap='OrRd', linewidth=0.1, ax=ax,\\\n",
    "                                      edgecolor='grey', legend=True)\n",
    "ax.set_axis_off()\n",
    "plt.show()"
   ]
  },
  {
   "cell_type": "markdown",
   "metadata": {},
   "source": [
    "## Challenge\n",
    "Adding the Wes Anderson color to an above map"
   ]
  },
  {
   "cell_type": "code",
   "execution_count": null,
   "metadata": {},
   "outputs": [],
   "source": [
    "import palettable as pltt\n",
    "\n",
    "wes = pltt.wesanderson.Darjeeling2_5.mpl_colormap"
   ]
  },
  {
   "cell_type": "markdown",
   "metadata": {},
   "source": [
    "Plotting the map using the wes colors"
   ]
  },
  {
   "cell_type": "code",
   "execution_count": null,
   "metadata": {},
   "outputs": [],
   "source": [
    "fig, ax = plt.subplots(figsize=(12,10), subplot_kw={'aspect':'equal'})\n",
    "df.plot(column='price_pp', scheme='Quantiles', cmap = wes, k=4, legend=True, ax=ax)"
   ]
  },
  {
   "cell_type": "markdown",
   "metadata": {},
   "source": [
    "## Extending the Lab\n",
    "I decided to try and add a title and black edge lines to the Wes Anderson colored map."
   ]
  },
  {
   "cell_type": "code",
   "execution_count": null,
   "metadata": {},
   "outputs": [],
   "source": [
    "fig, ax = plt.subplots(figsize=(12,10), subplot_kw={'aspect':'equal'})\n",
    "df.plot(column='price_pp', scheme='Quantiles', cmap = wes, edgecolor = 'k', k=4, legend=True, ax=ax)\n",
    "plt.title(label='AirBnB Prices in Chicago', fontdict=None, loc='center', pad=None)"
   ]
  },
  {
   "cell_type": "code",
   "execution_count": null,
   "metadata": {},
   "outputs": [],
   "source": []
  }
 ],
 "metadata": {
  "kernelspec": {
   "display_name": "Python 3",
   "language": "python",
   "name": "python3"
  },
  "language_info": {
   "codemirror_mode": {
    "name": "ipython",
    "version": 3
   },
   "file_extension": ".py",
   "mimetype": "text/x-python",
   "name": "python",
   "nbconvert_exporter": "python",
   "pygments_lexer": "ipython3",
   "version": "3.7.3"
  }
 },
 "nbformat": 4,
 "nbformat_minor": 2
}
